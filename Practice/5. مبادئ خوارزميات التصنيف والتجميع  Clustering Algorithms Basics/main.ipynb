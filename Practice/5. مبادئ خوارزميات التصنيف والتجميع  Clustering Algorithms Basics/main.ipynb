{
 "cells": [
  {
   "cell_type": "code",
   "execution_count": null,
   "metadata": {},
   "outputs": [],
   "source": []
  }
 ],
 "metadata": {
  "kernelspec": {
   "display_name": "Python 3.10.6 64-bit",
   "language": "python",
   "name": "python3"
  },
  "language_info": {
   "name": "python",
   "version": "3.10.6"
  },
  "orig_nbformat": 4,
  "vscode": {
   "interpreter": {
    "hash": "d31201e02e4b7c7646718902bad6c42f547a48c63987c2a8ac208903c2d35310"
   }
  }
 },
 "nbformat": 4,
 "nbformat_minor": 2
}
