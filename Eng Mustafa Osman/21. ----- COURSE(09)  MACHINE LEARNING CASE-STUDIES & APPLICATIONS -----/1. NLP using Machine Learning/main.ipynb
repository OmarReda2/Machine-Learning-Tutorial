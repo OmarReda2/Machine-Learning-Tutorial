{
 "cells": [
  {
   "cell_type": "markdown",
   "metadata": {},
   "source": [
    "# ML CASE STUDIES | NATURAL LANGUAGE PROCESSING (NLP)"
   ]
  },
  {
   "cell_type": "markdown",
   "metadata": {},
   "source": [
    "## Importing Libraries"
   ]
  },
  {
   "cell_type": "code",
   "execution_count": null,
   "metadata": {},
   "outputs": [],
   "source": [
    "import numpy as np\n",
    "import pandas as pd\n",
    "import matplotlib as plt\n",
    "import seaborn as sns\n",
    "%matplotlib inline\n",
    "# sns.set() "
   ]
  },
  {
   "cell_type": "code",
   "execution_count": null,
   "metadata": {},
   "outputs": [],
   "source": []
  },
  {
   "cell_type": "markdown",
   "metadata": {},
   "source": [
    "## Restaurant Reviews | Sentiment Analysis (NLP Case Study)"
   ]
  },
  {
   "cell_type": "markdown",
   "metadata": {},
   "source": [
    "### Importing & inspecting data"
   ]
  },
  {
   "cell_type": "code",
   "execution_count": null,
   "metadata": {},
   "outputs": [
    {
     "data": {
      "text/html": [
       "<div>\n",
       "<style scoped>\n",
       "    .dataframe tbody tr th:only-of-type {\n",
       "        vertical-align: middle;\n",
       "    }\n",
       "\n",
       "    .dataframe tbody tr th {\n",
       "        vertical-align: top;\n",
       "    }\n",
       "\n",
       "    .dataframe thead th {\n",
       "        text-align: right;\n",
       "    }\n",
       "</style>\n",
       "<table border=\"1\" class=\"dataframe\">\n",
       "  <thead>\n",
       "    <tr style=\"text-align: right;\">\n",
       "      <th></th>\n",
       "      <th>Review</th>\n",
       "      <th>Liked</th>\n",
       "    </tr>\n",
       "  </thead>\n",
       "  <tbody>\n",
       "    <tr>\n",
       "      <th>0</th>\n",
       "      <td>Wow... Loved this place.</td>\n",
       "      <td>1</td>\n",
       "    </tr>\n",
       "    <tr>\n",
       "      <th>1</th>\n",
       "      <td>Crust is not good.</td>\n",
       "      <td>0</td>\n",
       "    </tr>\n",
       "    <tr>\n",
       "      <th>2</th>\n",
       "      <td>Not tasty and the texture was just nasty.</td>\n",
       "      <td>0</td>\n",
       "    </tr>\n",
       "    <tr>\n",
       "      <th>3</th>\n",
       "      <td>Stopped by during the late May bank holiday of...</td>\n",
       "      <td>1</td>\n",
       "    </tr>\n",
       "    <tr>\n",
       "      <th>4</th>\n",
       "      <td>The selection on the menu was great and so wer...</td>\n",
       "      <td>1</td>\n",
       "    </tr>\n",
       "    <tr>\n",
       "      <th>...</th>\n",
       "      <td>...</td>\n",
       "      <td>...</td>\n",
       "    </tr>\n",
       "    <tr>\n",
       "      <th>995</th>\n",
       "      <td>I think food should have flavor and texture an...</td>\n",
       "      <td>0</td>\n",
       "    </tr>\n",
       "    <tr>\n",
       "      <th>996</th>\n",
       "      <td>Appetite instantly gone.</td>\n",
       "      <td>0</td>\n",
       "    </tr>\n",
       "    <tr>\n",
       "      <th>997</th>\n",
       "      <td>Overall I was not impressed and would not go b...</td>\n",
       "      <td>0</td>\n",
       "    </tr>\n",
       "    <tr>\n",
       "      <th>998</th>\n",
       "      <td>The whole experience was underwhelming, and I ...</td>\n",
       "      <td>0</td>\n",
       "    </tr>\n",
       "    <tr>\n",
       "      <th>999</th>\n",
       "      <td>Then, as if I hadn't wasted enough of my life ...</td>\n",
       "      <td>0</td>\n",
       "    </tr>\n",
       "  </tbody>\n",
       "</table>\n",
       "<p>1000 rows × 2 columns</p>\n",
       "</div>"
      ],
      "text/plain": [
       "                                                Review  Liked\n",
       "0                             Wow... Loved this place.      1\n",
       "1                                   Crust is not good.      0\n",
       "2            Not tasty and the texture was just nasty.      0\n",
       "3    Stopped by during the late May bank holiday of...      1\n",
       "4    The selection on the menu was great and so wer...      1\n",
       "..                                                 ...    ...\n",
       "995  I think food should have flavor and texture an...      0\n",
       "996                           Appetite instantly gone.      0\n",
       "997  Overall I was not impressed and would not go b...      0\n",
       "998  The whole experience was underwhelming, and I ...      0\n",
       "999  Then, as if I hadn't wasted enough of my life ...      0\n",
       "\n",
       "[1000 rows x 2 columns]"
      ]
     },
     "execution_count": 54,
     "metadata": {},
     "output_type": "execute_result"
    }
   ],
   "source": [
    "data = pd.read_csv('data/Restaurant_Reviews.tsv', sep='\\t')\n",
    "data"
   ]
  },
  {
   "cell_type": "code",
   "execution_count": null,
   "metadata": {},
   "outputs": [
    {
     "name": "stdout",
     "output_type": "stream",
     "text": [
      "<class 'pandas.core.frame.DataFrame'>\n",
      "RangeIndex: 1000 entries, 0 to 999\n",
      "Data columns (total 2 columns):\n",
      " #   Column  Non-Null Count  Dtype \n",
      "---  ------  --------------  ----- \n",
      " 0   Review  1000 non-null   object\n",
      " 1   Liked   1000 non-null   int64 \n",
      "dtypes: int64(1), object(1)\n",
      "memory usage: 15.8+ KB\n"
     ]
    }
   ],
   "source": [
    "data.info()"
   ]
  },
  {
   "cell_type": "code",
   "execution_count": null,
   "metadata": {},
   "outputs": [],
   "source": []
  },
  {
   "cell_type": "markdown",
   "metadata": {},
   "source": [
    "### Exploring Data"
   ]
  },
  {
   "cell_type": "code",
   "execution_count": null,
   "metadata": {},
   "outputs": [
    {
     "data": {
      "text/plain": [
       "1    500\n",
       "0    500\n",
       "Name: Liked, dtype: int64"
      ]
     },
     "execution_count": 56,
     "metadata": {},
     "output_type": "execute_result"
    }
   ],
   "source": [
    "data['Liked'].value_counts()"
   ]
  },
  {
   "cell_type": "code",
   "execution_count": null,
   "metadata": {},
   "outputs": [
    {
     "data": {
      "text/plain": [
       "<AxesSubplot:xlabel='Liked', ylabel='count'>"
      ]
     },
     "execution_count": 57,
     "metadata": {},
     "output_type": "execute_result"
    },
    {
     "data": {
      "image/png": "[encoded data removed]",
      "text/plain": [
       "<Figure size 432x288 with 1 Axes>"
      ]
     },
     "metadata": {
      "needs_background": "light"
     },
     "output_type": "display_data"
    }
   ],
   "source": [
    "sns.countplot(x=data['Liked'])"
   ]
  },
  {
   "cell_type": "code",
   "execution_count": null,
   "metadata": {},
   "outputs": [
    {
     "data": {
      "text/html": [
       "<div>\n",
       "<style scoped>\n",
       "    .dataframe tbody tr th:only-of-type {\n",
       "        vertical-align: middle;\n",
       "    }\n",
       "\n",
       "    .dataframe tbody tr th {\n",
       "        vertical-align: top;\n",
       "    }\n",
       "\n",
       "    .dataframe thead th {\n",
       "        text-align: right;\n",
       "    }\n",
       "</style>\n",
       "<table border=\"1\" class=\"dataframe\">\n",
       "  <thead>\n",
       "    <tr style=\"text-align: right;\">\n",
       "      <th></th>\n",
       "      <th>Review</th>\n",
       "      <th>Liked</th>\n",
       "      <th>Review Letter Count</th>\n",
       "    </tr>\n",
       "  </thead>\n",
       "  <tbody>\n",
       "    <tr>\n",
       "      <th>0</th>\n",
       "      <td>Wow... Loved this place.</td>\n",
       "      <td>1</td>\n",
       "      <td>24</td>\n",
       "    </tr>\n",
       "    <tr>\n",
       "      <th>1</th>\n",
       "      <td>Crust is not good.</td>\n",
       "      <td>0</td>\n",
       "      <td>18</td>\n",
       "    </tr>\n",
       "    <tr>\n",
       "      <th>2</th>\n",
       "      <td>Not tasty and the texture was just nasty.</td>\n",
       "      <td>0</td>\n",
       "      <td>41</td>\n",
       "    </tr>\n",
       "    <tr>\n",
       "      <th>3</th>\n",
       "      <td>Stopped by during the late May bank holiday of...</td>\n",
       "      <td>1</td>\n",
       "      <td>87</td>\n",
       "    </tr>\n",
       "    <tr>\n",
       "      <th>4</th>\n",
       "      <td>The selection on the menu was great and so wer...</td>\n",
       "      <td>1</td>\n",
       "      <td>59</td>\n",
       "    </tr>\n",
       "    <tr>\n",
       "      <th>...</th>\n",
       "      <td>...</td>\n",
       "      <td>...</td>\n",
       "      <td>...</td>\n",
       "    </tr>\n",
       "    <tr>\n",
       "      <th>995</th>\n",
       "      <td>I think food should have flavor and texture an...</td>\n",
       "      <td>0</td>\n",
       "      <td>66</td>\n",
       "    </tr>\n",
       "    <tr>\n",
       "      <th>996</th>\n",
       "      <td>Appetite instantly gone.</td>\n",
       "      <td>0</td>\n",
       "      <td>24</td>\n",
       "    </tr>\n",
       "    <tr>\n",
       "      <th>997</th>\n",
       "      <td>Overall I was not impressed and would not go b...</td>\n",
       "      <td>0</td>\n",
       "      <td>50</td>\n",
       "    </tr>\n",
       "    <tr>\n",
       "      <th>998</th>\n",
       "      <td>The whole experience was underwhelming, and I ...</td>\n",
       "      <td>0</td>\n",
       "      <td>91</td>\n",
       "    </tr>\n",
       "    <tr>\n",
       "      <th>999</th>\n",
       "      <td>Then, as if I hadn't wasted enough of my life ...</td>\n",
       "      <td>0</td>\n",
       "      <td>134</td>\n",
       "    </tr>\n",
       "  </tbody>\n",
       "</table>\n",
       "<p>1000 rows × 3 columns</p>\n",
       "</div>"
      ],
      "text/plain": [
       "                                                Review  Liked  \\\n",
       "0                             Wow... Loved this place.      1   \n",
       "1                                   Crust is not good.      0   \n",
       "2            Not tasty and the texture was just nasty.      0   \n",
       "3    Stopped by during the late May bank holiday of...      1   \n",
       "4    The selection on the menu was great and so wer...      1   \n",
       "..                                                 ...    ...   \n",
       "995  I think food should have flavor and texture an...      0   \n",
       "996                           Appetite instantly gone.      0   \n",
       "997  Overall I was not impressed and would not go b...      0   \n",
       "998  The whole experience was underwhelming, and I ...      0   \n",
       "999  Then, as if I hadn't wasted enough of my life ...      0   \n",
       "\n",
       "     Review Letter Count  \n",
       "0                     24  \n",
       "1                     18  \n",
       "2                     41  \n",
       "3                     87  \n",
       "4                     59  \n",
       "..                   ...  \n",
       "995                   66  \n",
       "996                   24  \n",
       "997                   50  \n",
       "998                   91  \n",
       "999                  134  \n",
       "\n",
       "[1000 rows x 3 columns]"
      ]
     },
     "execution_count": 58,
     "metadata": {},
     "output_type": "execute_result"
    }
   ],
   "source": [
    "data['Review Letter Count'] = data['Review'].apply(len)\n",
    "data\n",
    "\n",
    "\n"
   ]
  },
  {
   "cell_type": "code",
   "execution_count": null,
   "metadata": {},
   "outputs": [
    {
     "data": {
      "text/plain": [
       "'The problem I have is that they charge $11.99 for a sandwich that is no bigger than a Subway sub (which offers better and more amount of vegetables).'"
      ]
     },
     "execution_count": 59,
     "metadata": {},
     "output_type": "execute_result"
    }
   ],
   "source": [
    "data.iloc[data['Review Letter Count'].idxmax()][0]"
   ]
  },
  {
   "cell_type": "code",
   "execution_count": null,
   "metadata": {},
   "outputs": [],
   "source": []
  },
  {
   "cell_type": "markdown",
   "metadata": {},
   "source": [
    "### Pre-processing Data (NLTK Text Data Cleaning)"
   ]
  },
  {
   "cell_type": "code",
   "execution_count": null,
   "metadata": {},
   "outputs": [
    {
     "data": {
      "text/plain": [
       "'Wow... Loved this place.'"
      ]
     },
     "execution_count": 60,
     "metadata": {},
     "output_type": "execute_result"
    }
   ],
   "source": [
    "data['Review'][0]"
   ]
  },
  {
   "cell_type": "code",
   "execution_count": null,
   "metadata": {},
   "outputs": [],
   "source": [
    "# import string\n",
    "# string.punctuation"
   ]
  },
  {
   "cell_type": "code",
   "execution_count": null,
   "metadata": {},
   "outputs": [],
   "source": [
    "import nltk"
   ]
  },
  {
   "cell_type": "code",
   "execution_count": null,
   "metadata": {},
   "outputs": [],
   "source": [
    "from nltk.corpus import stopwords"
   ]
  },
  {
   "cell_type": "code",
   "execution_count": null,
   "metadata": {},
   "outputs": [
    {
     "name": "stderr",
     "output_type": "stream",
     "text": [
      "[nltk_data] Downloading package stopwords to\n",
      "[nltk_data]     C:\\Users\\omarr\\AppData\\Roaming\\nltk_data...\n",
      "[nltk_data]   Package stopwords is already up-to-date!\n"
     ]
    },
    {
     "data": {
      "text/plain": [
       "True"
      ]
     },
     "execution_count": 64,
     "metadata": {},
     "output_type": "execute_result"
    }
   ],
   "source": [
    "nltk.download('stopwords')"
   ]
  },
  {
   "cell_type": "code",
   "execution_count": null,
   "metadata": {},
   "outputs": [
    {
     "name": "stdout",
     "output_type": "stream",
     "text": [
      "['i', 'me', 'my', 'myself', 'we', 'our', 'ours', 'ourselves', 'you', \"you're\", \"you've\", \"you'll\", \"you'd\", 'your', 'yours', 'yourself', 'yourselves', 'he', 'him', 'his', 'himself', 'she', \"she's\", 'her', 'hers', 'herself', 'it', \"it's\", 'its', 'itself', 'they', 'them', 'their', 'theirs', 'themselves', 'what', 'which', 'who', 'whom', 'this', 'that', \"that'll\", 'these', 'those', 'am', 'is', 'are', 'was', 'were', 'be', 'been', 'being', 'have', 'has', 'had', 'having', 'do', 'does', 'did', 'doing', 'a', 'an', 'the', 'and', 'but', 'if', 'or', 'because', 'as', 'until', 'while', 'of', 'at', 'by', 'for', 'with', 'about', 'against', 'between', 'into', 'through', 'during', 'before', 'after', 'above', 'below', 'to', 'from', 'up', 'down', 'in', 'out', 'on', 'off', 'over', 'under', 'again', 'further', 'then', 'once', 'here', 'there', 'when', 'where', 'why', 'how', 'all', 'any', 'both', 'each', 'few', 'more', 'most', 'other', 'some', 'such', 'no', 'nor', 'not', 'only', 'own', 'same', 'so', 'than', 'too', 'very', 's', 't', 'can', 'will', 'just', 'don', \"don't\", 'should', \"should've\", 'now', 'd', 'll', 'm', 'o', 're', 've', 'y', 'ain', 'aren', \"aren't\", 'couldn', \"couldn't\", 'didn', \"didn't\", 'doesn', \"doesn't\", 'hadn', \"hadn't\", 'hasn', \"hasn't\", 'haven', \"haven't\", 'isn', \"isn't\", 'ma', 'mightn', \"mightn't\", 'mustn', \"mustn't\", 'needn', \"needn't\", 'shan', \"shan't\", 'shouldn', \"shouldn't\", 'wasn', \"wasn't\", 'weren', \"weren't\", 'won', \"won't\", 'wouldn', \"wouldn't\"]\n"
     ]
    }
   ],
   "source": [
    "print(stopwords.words('english'))"
   ]
  },
  {
   "cell_type": "code",
   "execution_count": null,
   "metadata": {},
   "outputs": [
    {
     "data": {
      "text/plain": [
       "'Wow... Loved this place.'"
      ]
     },
     "execution_count": 66,
     "metadata": {},
     "output_type": "execute_result"
    }
   ],
   "source": [
    "s = data['Review'][0]\n",
    "s"
   ]
  },
  {
   "cell_type": "code",
   "execution_count": null,
   "metadata": {},
   "outputs": [
    {
     "data": {
      "text/plain": [
       "'Wow    Loved this place '"
      ]
     },
     "execution_count": 67,
     "metadata": {},
     "output_type": "execute_result"
    }
   ],
   "source": [
    "import re\n",
    "s = re.sub('[^a-zA-Z]',' ',s)\n",
    "s"
   ]
  },
  {
   "cell_type": "code",
   "execution_count": null,
   "metadata": {},
   "outputs": [
    {
     "data": {
      "text/plain": [
       "'wow    loved this place '"
      ]
     },
     "execution_count": 68,
     "metadata": {},
     "output_type": "execute_result"
    }
   ],
   "source": [
    "s.lower()"
   ]
  },
  {
   "cell_type": "code",
   "execution_count": null,
   "metadata": {},
   "outputs": [
    {
     "data": {
      "text/plain": [
       "['Wow', 'Loved', 'this', 'place']"
      ]
     },
     "execution_count": 69,
     "metadata": {},
     "output_type": "execute_result"
    }
   ],
   "source": [
    "s = s.split()\n",
    "s"
   ]
  },
  {
   "cell_type": "code",
   "execution_count": null,
   "metadata": {},
   "outputs": [
    {
     "data": {
      "text/plain": [
       "['Wow', 'Loved', 'place']"
      ]
     },
     "execution_count": 70,
     "metadata": {},
     "output_type": "execute_result"
    }
   ],
   "source": [
    "temp = []\n",
    "\n",
    "for word in s:\n",
    "    if word not in stopwords.words('english'):\n",
    "        temp.append(word)\n",
    "temp"
   ]
  },
  {
   "cell_type": "code",
   "execution_count": null,
   "metadata": {},
   "outputs": [
    {
     "data": {
      "text/plain": [
       "['Wow', 'Loved', 'place']"
      ]
     },
     "execution_count": 71,
     "metadata": {},
     "output_type": "execute_result"
    }
   ],
   "source": [
    "[word for word in s if word not in stopwords.words('english')]"
   ]
  },
  {
   "cell_type": "code",
   "execution_count": null,
   "metadata": {},
   "outputs": [
    {
     "data": {
      "text/plain": [
       "'Wow Loved place'"
      ]
     },
     "execution_count": 72,
     "metadata": {},
     "output_type": "execute_result"
    }
   ],
   "source": [
    "s = ' '.join(temp)\n",
    "s"
   ]
  },
  {
   "cell_type": "code",
   "execution_count": null,
   "metadata": {},
   "outputs": [],
   "source": [
    "from nltk.stem import PorterStemmer"
   ]
  },
  {
   "cell_type": "code",
   "execution_count": null,
   "metadata": {},
   "outputs": [],
   "source": [
    "ps = PorterStemmer()"
   ]
  },
  {
   "cell_type": "code",
   "execution_count": null,
   "metadata": {},
   "outputs": [
    {
     "data": {
      "text/plain": [
       "'wow loved plac'"
      ]
     },
     "execution_count": 75,
     "metadata": {},
     "output_type": "execute_result"
    }
   ],
   "source": [
    "s = ps.stem(s)\n",
    "s"
   ]
  },
  {
   "cell_type": "code",
   "execution_count": null,
   "metadata": {},
   "outputs": [],
   "source": [
    "from sklearn.feature_extraction.text import CountVectorizer "
   ]
  },
  {
   "cell_type": "code",
   "execution_count": null,
   "metadata": {},
   "outputs": [],
   "source": [
    "cv = CountVectorizer()"
   ]
  },
  {
   "cell_type": "code",
   "execution_count": null,
   "metadata": {},
   "outputs": [
    {
     "data": {
      "text/plain": [
       "array([[0, 0, 1],\n",
       "       [1, 0, 0],\n",
       "       [0, 1, 0]], dtype=int64)"
      ]
     },
     "execution_count": 78,
     "metadata": {},
     "output_type": "execute_result"
    }
   ],
   "source": [
    "cv.fit_transform(s.split()).toarray()"
   ]
  },
  {
   "cell_type": "code",
   "execution_count": null,
   "metadata": {},
   "outputs": [],
   "source": []
  },
  {
   "cell_type": "code",
   "execution_count": null,
   "metadata": {},
   "outputs": [
    {
     "data": {
      "text/plain": [
       "['wow loved plac',\n",
       " 'crust good',\n",
       " 'not tasty texture nasti',\n",
       " 'stopped late may bank holiday rick steve recommendation lov',\n",
       " 'the selection menu great pric',\n",
       " 'now i getting angry i want damn pho',\n",
       " 'honeslty taste that fresh',\n",
       " 'the potatoes like rubber could tell made ahead time kept warm',\n",
       " 'the fries great',\n",
       " 'a great touch',\n",
       " 'service prompt',\n",
       " 'would go back',\n",
       " 'the cashier care ever i say still ended wayyy overpr',\n",
       " 'i tried cape cod ravoli chicken cranberry mmmm',\n",
       " 'i disgusted i pretty sure human hair',\n",
       " 'i shocked signs indicate cash',\n",
       " 'highly recommend',\n",
       " 'waitress little slow servic',\n",
       " 'this place worth time let alone vega',\n",
       " 'like',\n",
       " 'the burrittos blah',\n",
       " 'the food amaz',\n",
       " 'service also cut',\n",
       " 'i could care less the interior beauti',\n",
       " 'so perform',\n",
       " 'that right red velvet cake ohhh stuff good',\n",
       " 'they never brought salad ask',\n",
       " 'this hole wall great mexican street tacos friendly staff',\n",
       " 'took hour get food tables restaurant food luke warm our sever running around like totally overwhelm',\n",
       " 'the worst salmon sashimi',\n",
       " 'also combos like burger fries beer decent d',\n",
       " 'this like final blow',\n",
       " 'i found place accident i could happi',\n",
       " 'seems like good quick place grab bite familiar pub food favor look elsewher',\n",
       " 'overall i like place lot',\n",
       " 'the redeeming quality restaurant inexpens',\n",
       " 'ample portions good pric',\n",
       " 'poor service waiter made feel like i stupid every time came t',\n",
       " 'my first visit hiro delight',\n",
       " 'service suck',\n",
       " 'the shrimp tender moist',\n",
       " 'there deal good enough would drag establish',\n",
       " 'hard judge whether sides good grossed melted styrofoam want eat fear getting sick',\n",
       " 'on positive note server attentive provided great servic',\n",
       " 'frozen pucks disgust worst people behind regist',\n",
       " 'the thing i like prime rib dessert sect',\n",
       " 'it bad food damn gener',\n",
       " 'the burger good beef cooked right',\n",
       " 'if want sandwich go firehous',\n",
       " 'my side greek salad greek dressing tasty pita hummus refresh',\n",
       " 'we ordered duck rare pink tender inside nice char outsid',\n",
       " 'he came running us realized husband left sunglasses t',\n",
       " 'their chow mein good',\n",
       " 'they horrible attitudes towards customers talk one customers enjoy food',\n",
       " 'the portion hug',\n",
       " 'loved friendly servers great food wonderful imaginative menu',\n",
       " 'the heart attack grill downtown vegas absolutely flat lined excuse restaur',\n",
       " 'not much seafood like strings pasta bottom',\n",
       " 'the salad right amount sauce power scallop perfectly cook',\n",
       " 'the ripped banana ripped petrified tasteless',\n",
       " 'at least think refill water i struggle wave minut',\n",
       " 'this place receives stars appet',\n",
       " 'the cocktails handmade delici',\n",
       " 'we definitely go back',\n",
       " 'we glad found plac',\n",
       " 'great food service huge portions give military discount',\n",
       " 'always great time dos gringo',\n",
       " 'update went back second time still amaz',\n",
       " 'we got food apparently never heard salt batter fish chewi',\n",
       " 'a great way finish great',\n",
       " 'the deal included tastings drinks jeff went beyond expect',\n",
       " 'really really good rice tim',\n",
       " 'the service meh',\n",
       " 'it took min get milkshake nothing chocolate milk',\n",
       " 'i guess i known place would suck inside excalibur i use common sens',\n",
       " 'the scallop dish quite appalling value wel',\n",
       " 'times very bad customer servic',\n",
       " 'the sweet potato fries good seasoned wel',\n",
       " 'today second time i lunch buffet pretty good',\n",
       " 'there much good food vegas i feel cheated wasting eating opportunity going rice compani',\n",
       " 'coming like experiencing underwhelming relationship parties wait person ask break',\n",
       " 'walked place smelled like old grease trap others ',\n",
       " 'the turkey roast beef bland',\n",
       " 'this plac',\n",
       " 'the pan cakes everyone raving taste like sugary disaster tailored palate six year old',\n",
       " 'i love pho spring rolls oh yummy tri',\n",
       " 'the poor batter meat ratio made chicken tenders unsatisfi',\n",
       " 'all i say food amaz',\n",
       " 'omelets di',\n",
       " 'everything fresh delici',\n",
       " 'in summary largely disappointing dining experi',\n",
       " 'it like really sexy party mouth outrageously flirting hottest person parti',\n",
       " 'never hard rock casino will never ever step forward in it again',\n",
       " 'best breakfast buffet',\n",
       " 'say bye bye tip ladi',\n",
       " 'we never go',\n",
       " 'will back',\n",
       " 'food arrived quickli',\n",
       " 'it good',\n",
       " 'on side cafe serves really good food',\n",
       " 'our server fantastic found wife loves roasted garlic bone marrow added extra meal another marrow go',\n",
       " 'the good thing waiter helpful kept bloddy mary com',\n",
       " 'best buffet town price cannot beat',\n",
       " 'i loved mussels cooked wine reduction duck tender potato dishes delici',\n",
       " 'this one better buffets i',\n",
       " 'so went tigerlilly fantastic afternoon',\n",
       " 'the food delicious bartender attentive personable and got great d',\n",
       " 'the ambience wonderful music play',\n",
       " 'will go back next trip',\n",
       " 'sooooo good',\n",
       " 'real sushi lovers let honest yama good',\n",
       " 'at least min passed us ordering food arriving busi',\n",
       " 'this really fantastic thai restaurant definitely worth visit',\n",
       " 'nice spicy tend',\n",
       " 'good pric',\n",
       " 'check',\n",
       " 'it pretty gross',\n",
       " 'i better atmospher',\n",
       " 'kind hard mess steak',\n",
       " 'although i much liked look sound place actual experience bit disappoint',\n",
       " 'i know place managed served blandest food i ever eaten preparing indian cuisin',\n",
       " 'worst service boot least worri',\n",
       " 'service fine waitress friendli',\n",
       " 'the guys steaks steak loving son steak best worst places said best steak ever eaten',\n",
       " 'we thought venture away get good sushi place really hit spot night',\n",
       " 'host staff lack better word bitch',\n",
       " 'bland not liking place number reasons i want waste time bad reviewing i leav',\n",
       " 'phenomenal food service ambi',\n",
       " 'i return',\n",
       " 'definitely worth venturing strip pork belly return next time i vega',\n",
       " 'this place way overpriced mediocre food',\n",
       " 'penne vodka excel',\n",
       " 'they good selection food including massive meatloaf sandwich crispy chicken wrap delish tuna melt tasty burg',\n",
       " 'the management rud',\n",
       " 'delicious nyc bagels good selections cream cheese real lox capers even',\n",
       " 'great subway fact good come every subway meet expect',\n",
       " 'i seriously solid breakfast',\n",
       " 'this one best bars food vega',\n",
       " 'he extremely rude really many restaurants i would love dine weekend vega',\n",
       " 'my drink never empty made really great menu suggest',\n",
       " 'don',\n",
       " 'the waiter helpful friendly rarely checked u',\n",
       " 'my husband i ate lunch disappointed food servic',\n",
       " 'and red curry much bamboo shoots tasti',\n",
       " 'nice blanket moz top feel like done cover subpar food',\n",
       " 'the bathrooms clean place well decor',\n",
       " 'the menu always changing food quality going service extremely slow',\n",
       " 'the service little slow considering served people servers food coming slow pac',\n",
       " 'i give thumb',\n",
       " 'we watched waiter pay lot attention tables ignore u',\n",
       " 'my fianc i came middle day greeted seated right away',\n",
       " 'this great restaurant mandalay bay',\n",
       " 'we waited forty five minutes vain',\n",
       " 'crostini came salad stal',\n",
       " 'some highlights great quality nigiri',\n",
       " 'staff friendly joint always clean',\n",
       " 'different cut piece day still wonderful tender well well flavor',\n",
       " 'i ordered voodoo pasta first time i really excellent pasta since going gluten free several years ago',\n",
       " 'place good',\n",
       " 'unfortunately must hit bakery leftover day everything ordered stal',\n",
       " 'i came back today since relocated still impress',\n",
       " 'i seated immedi',\n",
       " 'their menu diverse reasonably pr',\n",
       " 'avoid cost',\n",
       " 'restaurant always full never wait',\n",
       " 'delici',\n",
       " 'this place hands one best places eat phoenix metro area',\n",
       " 'so go looking good food',\n",
       " 'i never treated bad',\n",
       " 'bacon hella salti',\n",
       " 'we also ordered spinach avocado salad ingredients sad dressing literally zero tast',\n",
       " 'this really vegas fine dining used right menus handed ladies prices list',\n",
       " 'the waitresses friendli',\n",
       " 'lordy khao soi dish missed curry lov',\n",
       " 'everything menu terrific also thrilled made amazing accommodations vegetarian daught',\n",
       " 'perhaps i caught night judging reviews i inspired go back',\n",
       " 'the service leaves lot desir',\n",
       " 'the atmosphere modern hip maintaining touch cozi',\n",
       " 'not weekly haunt definitely place come back everi',\n",
       " 'we literally sat minutes one asking take ord',\n",
       " 'the burger absolutely flavor meat totally bland burger overcooked charcoal flavor',\n",
       " 'i also decided send back waitress looked like verge heart attack',\n",
       " 'i dressed treated rud',\n",
       " 'it probably dirt',\n",
       " 'love place hits spot i want something healthy lacking quantity flavor',\n",
       " 'i ordered lemon raspberry ice cocktail also incred',\n",
       " 'the food sucked expected sucked could imagin',\n",
       " 'interesting decor',\n",
       " 'what i really like crepe st',\n",
       " 'also served hot bread butter home made potato chips bacon bits top original good',\n",
       " 'watch preparing delicious food',\n",
       " 'both egg rolls fantast',\n",
       " 'when order arrived one gyros miss',\n",
       " 'i salad wings ice cream dessert left feeling quite satisfi',\n",
       " 'i really sure joey voted best hot dog valley readers phoenix magazin',\n",
       " 'the best place go tasty bowl pho',\n",
       " 'the live music fridays totally blow',\n",
       " 'i never insulted felt disrespect',\n",
       " 'very friendly staff',\n",
       " 'it worth dr',\n",
       " 'i heard good things place exceeding every hope i could dream',\n",
       " 'food great serivc',\n",
       " 'the warm beer help',\n",
       " 'great brunch spot',\n",
       " 'service friendly invit',\n",
       " 'very good lunch spot',\n",
       " 'i lived since first last time i stepped foot plac',\n",
       " 'the worst experience ev',\n",
       " 'must night plac',\n",
       " 'the sides delish mixed mushrooms yukon gold puree white corn beat',\n",
       " 'if bug never showed i would given sure side wall bug climbing kitchen',\n",
       " 'for minutes waiting salad realized coming time soon',\n",
       " 'my friend loved salmon tartar',\n",
       " 'won go back',\n",
       " 'extremely tasti',\n",
       " 'waitress good though',\n",
       " 'soggy good',\n",
       " 'the jamaican mojitos delici',\n",
       " 'which small worth pric',\n",
       " 'food rich order accordingli',\n",
       " 'the shower area outside rinse take full shower unless mind nude everyone se',\n",
       " 'the service bit lack',\n",
       " 'lobster bisque bussell sprouts risotto filet all needed salt pepper course none t',\n",
       " 'hopefully bodes going business someone cook com',\n",
       " 'it either cold enough flavor bad',\n",
       " 'i loved bacon wrapped d',\n",
       " 'this unbelievable bargain',\n",
       " 'the folks otto always make us feel welcome speci',\n",
       " 'as mains also uninspir',\n",
       " 'this place i first pho amaz',\n",
       " 'this wonderful experience made place must stop whenever town',\n",
       " 'if food bad enough enjoy dealing world worst annoying drunk peopl',\n",
       " 'very fun chef',\n",
       " 'ordered double cheeseburger got single patty falling apart picture uploaded yeah still suck',\n",
       " 'great place couple drinks watch sporting events walls covered tv',\n",
       " 'if possible give zero star',\n",
       " 'the descriptions said yum yum sauce another said eel sauce yet another said spicy mayo well none rolls sauc',\n",
       " 'i say would hardest decision honestly m dishes taste supposed taste amaz',\n",
       " 'if rolled eyes may stayed not sure go back tri',\n",
       " 'everyone attentive providing excellent customer servic',\n",
       " 'horrible waste time money',\n",
       " 'now dish quite flavour',\n",
       " 'by time side restaurant almost empty excus',\n",
       " 'it busy either also building freezing cold',\n",
       " 'like reviewer said pay eat plac',\n",
       " 'drinks took close minutes come one point',\n",
       " 'seriously flavorful delights folk',\n",
       " 'much better ayce sushi place i went vega',\n",
       " 'the lighting dark enough set mood',\n",
       " 'based sub par service i received effort show gratitude business i going back',\n",
       " 'owner really great peopl',\n",
       " 'there nothing privileged working ',\n",
       " 'the greek dressing creamy flavor',\n",
       " 'overall i think i would take parents place made similar complaints i silently felt',\n",
       " 'now pizza good peanut sauce tasti',\n",
       " 'we table service pretty fast',\n",
       " 'fantastic servic',\n",
       " 'i well would given godfathers zero stars poss',\n",
       " 'they know mak',\n",
       " 'tough short flavor',\n",
       " 'i hope place sticks around',\n",
       " 'i bars vegas ever recall charged tap wat',\n",
       " 'the restaurant atmosphere exquisit',\n",
       " 'good service clean inexpensive boot',\n",
       " 'the seafood fresh generous port',\n",
       " 'plus buck',\n",
       " 'the service par eith',\n",
       " 'thus far visited twice food absolutely delicious tim',\n",
       " 'just good i year ago',\n",
       " 'for self proclaimed coffee cafe i wildly disappoint',\n",
       " 'the veggitarian platter world',\n",
       " 'you cant go wrong food',\n",
       " 'you beat',\n",
       " 'stopped place madison ironman friendly kind staff',\n",
       " 'the chefs friendly good job',\n",
       " 'i better dedicated boba tea spots even jenni pho',\n",
       " 'i liked patio service outstand',\n",
       " 'the goat taco skimp meat wow flavor',\n",
       " 'i think',\n",
       " 'i mac salad pretty bland i get',\n",
       " 'i went bachi burger friend recommendation disappoint',\n",
       " 'service stink',\n",
       " 'i waited wait',\n",
       " 'this place quality sushi quality restaur',\n",
       " 'i would definitely recommend wings well pizza',\n",
       " 'great pizza salad',\n",
       " 'things went wrong they burned saganaki',\n",
       " 'we waited hour breakfast i could done times better hom',\n",
       " 'this place amaz',\n",
       " 'i hate disagree fellow yelpers husband i disappointed plac',\n",
       " 'waited hours never got either pizzas many around us came lat',\n",
       " 'just know slow',\n",
       " 'the staff great food delish incredible beer select',\n",
       " 'i live neighborhood i disappointed i back convenient loc',\n",
       " 'i know pulled pork could soooo delici',\n",
       " 'you get incredibly fresh fish prepared car',\n",
       " 'before i go i gave star rating please know third time eating bachi burger writing review',\n",
       " 'i love fact everything menu worth',\n",
       " 'never i dining plac',\n",
       " 'the food excellent service good',\n",
       " 'good beer drink selection good food select',\n",
       " 'please stay away shrimp stir fried noodl',\n",
       " 'the potato chip order sad i could probably count many chips box probably around',\n",
       " 'food really bor',\n",
       " 'good service check',\n",
       " 'this greedy corporation never see another dim',\n",
       " 'will never ever go back',\n",
       " 'as much i like go back i get passed atrocious service never return',\n",
       " 'in summer dine charming outdoor patio delight',\n",
       " 'i expect good',\n",
       " 'fantastic food',\n",
       " 'she ordered toasted english muffin came untoast',\n",
       " 'the food good',\n",
       " 'never going back',\n",
       " 'great food price high quality house mad',\n",
       " 'the bus boy hand rud',\n",
       " 'by point friends i basically figured place joke mind making publicly loudly known',\n",
       " 'back good bbq lighter fare reasonable pricing tell public back old way',\n",
       " 'and considering two us left full happy go wrong',\n",
       " 'all bread made hous',\n",
       " 'the downside servic',\n",
       " 'also fries without doubt worst fries i ev',\n",
       " 'service exceptional food good review',\n",
       " 'a couple months later i returned amazing m',\n",
       " 'favorite place town shawarrrrrrma',\n",
       " 'the black eyed peas sweet potatoes unr',\n",
       " 'you disappoint',\n",
       " 'they could serve vinaigrette may make better overall dish still good',\n",
       " 'i go far many places i never seen restaurant serves egg breakfast especi',\n",
       " 'when mom i got home immediately got sick bites salad',\n",
       " 'the servers pleasant deal always honor pizza hut coupon',\n",
       " 'both truly unbelievably good i glad went back',\n",
       " 'we fantastic service pleased atmospher',\n",
       " 'everything gross',\n",
       " 'i love plac',\n",
       " 'great service food',\n",
       " 'first bathrooms location dirty seat covers replenished plain yucki',\n",
       " 'the burger i got gold standard burger kind disappoint',\n",
       " 'omg food delicioso',\n",
       " 'there nothing authentic plac',\n",
       " 'spaghetti nothing special whatsoev',\n",
       " 'of dishes salmon best great',\n",
       " 'the vegetables fresh sauce feels like authentic thai',\n",
       " 'it worth driving tucson',\n",
       " 'the selection probably worst i seen vegas non',\n",
       " 'pretty good beer select',\n",
       " 'this place like chipotle bett',\n",
       " 'classy warm atmosphere fun fresh appetizers succulent steaks baseball steak',\n",
       " 'stars brick oven bread app',\n",
       " 'i eaten multiple times time food delici',\n",
       " 'we sat another ten minutes finally gave left',\n",
       " 'he terr',\n",
       " 'everyone treated equally speci',\n",
       " 'it take min pancakes egg',\n",
       " 'it delici',\n",
       " 'on good side staff genuinely pleasant enthusiastic real treat',\n",
       " 'sadly gordon ramsey steak place shall sharply avoid next trip vega',\n",
       " 'as always evening wonderful food delici',\n",
       " 'best fish i ever lif',\n",
       " 'the bathroom next door nic',\n",
       " 'the buffet small food offered bland',\n",
       " 'this outstanding little restaurant best food i ever tast',\n",
       " 'pretty cool i would say',\n",
       " 'definitely turn doubt i back unless someone else buy',\n",
       " 'server great job handling large rowdy t',\n",
       " 'i find wasting food despicable food',\n",
       " 'my wife lobster bisque soup lukewarm',\n",
       " 'would come back i sushi craving vega',\n",
       " 'the staff great ambiance great',\n",
       " 'he deserves star',\n",
       " 'i left stomach ache felt sick rest day',\n",
       " 'they dropped bal',\n",
       " 'the dining space tiny elegantly decorated comfort',\n",
       " 'they customize order way like usual eggplant green bean stir fry lov',\n",
       " 'and beans rice mediocre best',\n",
       " 'best tacos town far',\n",
       " 'i took back money got outta',\n",
       " 'in interesting part town place amaz',\n",
       " 'rude inconsiderate manag',\n",
       " 'the staff friendly wait times served horrible one even says hi first minut',\n",
       " 'i back',\n",
       " 'they great dinn',\n",
       " 'the service outshining i definitely recommend halibut',\n",
       " 'the food terr',\n",
       " 'will never ever go back and have told many people what had happen',\n",
       " 'i recommend unless car breaks front starv',\n",
       " 'i come back every time i vega',\n",
       " 'this place deserves one star food',\n",
       " 'this disgrac',\n",
       " 'def coming back bowl next tim',\n",
       " 'if want healthy authentic ethic food try plac',\n",
       " 'i continue come ladies night andddd date night highly recommend place anyone area',\n",
       " 'i several times past experience always great',\n",
       " 'we walked away stuffed happy first vegas buffet experi',\n",
       " 'service excellent prices pretty reasonable considering vegas located inside crystals shopping mall aria',\n",
       " 'to summarize food incredible nay transcendant nothing brings joy quite like memory pneumatic condiment dispens',\n",
       " 'i probably one people ever go ians lik',\n",
       " 'kids pizza always hit lots great side dish options kiddo',\n",
       " 'service perfect family atmosphere nice se',\n",
       " 'cooked perfection service impecc',\n",
       " 'this one simply disappoint',\n",
       " 'overall i disappointed quality food bouchon',\n",
       " 'i accountant know i getting screw',\n",
       " 'great place eat reminds little mom pop shops san francisco bay area',\n",
       " 'today first taste buldogis gourmet hot dog i tell i ever thought poss',\n",
       " 'left frustr',\n",
       " 'i definitely soon',\n",
       " 'food really good i got full petty fast',\n",
       " 'service fantast',\n",
       " 'total waste of tim',\n",
       " 'i know kind best iced tea',\n",
       " 'come hungry leave happy stuf',\n",
       " 'for service i give star',\n",
       " 'i assure disappoint',\n",
       " 'i take little bad service food suck',\n",
       " 'gave trying eat crust teeth still sor',\n",
       " 'but i completely gross',\n",
       " 'i really enjoyed ',\n",
       " 'first time going i think i quickly become regular',\n",
       " 'our server nice even though looked little overwhelmed needs stayed professional friendly end',\n",
       " 'from dinner companions told everything fresh nice texture tast',\n",
       " 'on ground right next table large smeared stepped tracked everywhere pile green bird poop',\n",
       " 'furthermore even find hours operation websit',\n",
       " 'we tried like place times i think don',\n",
       " 'what mistak',\n",
       " 'no complaint',\n",
       " 'this seriously good pizza i expert connisseur top',\n",
       " 'waiter jerk',\n",
       " 'strike wants rush',\n",
       " 'these nicest restaurant owners i ever come across',\n",
       " 'i never com',\n",
       " 'we loved biscuit',\n",
       " 'service quick friendli',\n",
       " 'ordered appetizer took minutes pizza another minut',\n",
       " 'so absolutley fantast',\n",
       " 'it huge awkward lb piece cow ths gristle fat',\n",
       " 'definitely come back',\n",
       " 'i like steiners dark feels like bar',\n",
       " 'wow spicy delici',\n",
       " 'if familiar check',\n",
       " 'i take business dinner dollars elsewher',\n",
       " 'i love go back',\n",
       " 'anyway fs restaurant wonderful breakfast lunch',\n",
       " 'nothing speci',\n",
       " 'each day week different deal delici',\n",
       " 'not mention combination pears almonds bacon big winn',\n",
       " 'will back',\n",
       " 'sauce tasteless',\n",
       " 'the food delicious spicy enough sure ask spicier prefer way',\n",
       " 'my ribeye steak cooked perfectly great mesquite flavor',\n",
       " 'i think going back anytime soon',\n",
       " 'food gooodd',\n",
       " 'i far sushi connoisseur i definitely tell difference good food bad food certainly bad food',\n",
       " 'i insult',\n",
       " 'the last times i lunch bad',\n",
       " 'the chicken wings contained driest chicken meat i ever eaten',\n",
       " 'the food good i enjoyed every mouthful enjoyable relaxed venue couples small family groups etc',\n",
       " 'nargile i think great',\n",
       " 'best tater tots southwest',\n",
       " 'we loved plac',\n",
       " 'definitely worth i paid',\n",
       " 'the vanilla ice cream creamy smooth profiterole choux pastry fresh enough',\n",
       " 'im az time new spot',\n",
       " 'the manager worst',\n",
       " 'the inside really quite nice clean',\n",
       " 'the food outstanding prices reason',\n",
       " 'i think i running back carly anytime soon food',\n",
       " 'this due fact took minutes acknowledged another minutes get food kept forgetting th',\n",
       " 'love margarita',\n",
       " 'this first vegas buffet disappoint',\n",
       " 'very good though',\n",
       " 'the one note ventilation could use upgrad',\n",
       " 'great pork sandwich',\n",
       " 'don waste tim',\n",
       " 'total letdown i would much rather go camelback flower shop cartel coffe',\n",
       " 'third cheese friend burger cold',\n",
       " 'we enjoy pizza brunch',\n",
       " 'the steaks well trimmed also perfectly cook',\n",
       " 'we group claimed would handled us beauti',\n",
       " 'i lov',\n",
       " 'we asked bill leave without eating bring eith',\n",
       " 'this place jewel las vegas exactly i hoping find nearly ten years liv',\n",
       " 'seafood limited boiled shrimp crab legs crab legs definitely taste fresh',\n",
       " 'the selection food best',\n",
       " 'delicious i absolutely back',\n",
       " 'this small family restaurant fine dining establish',\n",
       " 'they toro tartare cavier extraordinary i liked thinly sliced wagyu white truffl',\n",
       " 'i dont think i back long tim',\n",
       " 'it attached gas station rarely good sign',\n",
       " 'how awesom',\n",
       " 'i back many times soon',\n",
       " 'the menu much good stuff could decid',\n",
       " 'worse humiliated worker right front bunch horrible name cal',\n",
       " 'conclusion very filling m',\n",
       " 'their daily specials always hit group',\n",
       " 'and tragedy struck',\n",
       " 'the pancake also really good pretty larg',\n",
       " 'this first crawfish experience delici',\n",
       " 'their monster chicken fried steak eggs time favorit',\n",
       " 'waitress sweet funni',\n",
       " 'i also taste mom multi grain pumpkin pancakes pecan butter amazing fluffy delici',\n",
       " 'i rather eat airline food seri',\n",
       " 'cant say enough good things plac',\n",
       " 'the ambiance incred',\n",
       " 'the waitress manager friendli',\n",
       " 'i would recommend plac',\n",
       " 'overall i impressed noca',\n",
       " 'my gyro basically lettuc',\n",
       " 'terrible servic',\n",
       " 'thoroughly disappoint',\n",
       " 'i much pasta i love homemade hand made pastas thin pizza',\n",
       " 'give try happi',\n",
       " 'by far best cheesecurds ev',\n",
       " 'reasonably priced also',\n",
       " 'everything perfect night',\n",
       " 'the food good typical bar food',\n",
       " 'drive get',\n",
       " 'at first glance lovely bakery cafe nice ambiance clean friendly staff',\n",
       " 'anyway i think go back',\n",
       " 'point finger item menu order disappoint',\n",
       " 'oh thing beauty restaur',\n",
       " 'if gone go now',\n",
       " 'a greasy unhealthy m',\n",
       " 'first time might last',\n",
       " 'those burgers amaz',\n",
       " 'similarly delivery man say word apology food minutes l',\n",
       " 'and way expens',\n",
       " 'be sure order dessert even need pack go tiramisu cannoli di',\n",
       " 'this first time i wait next',\n",
       " 'the bartender also nic',\n",
       " 'everything good tasti',\n",
       " 'this place two thumbs way',\n",
       " 'the best place vegas breakfast check sat sun',\n",
       " 'if love authentic mexican food want whole bunch interesting yet delicious meats choose need try plac',\n",
       " 'terrible manag',\n",
       " 'an excellent new restaurant experienced frenchman',\n",
       " 'if zero stars i would give zero star',\n",
       " 'great steak great sides great wine amazing dessert',\n",
       " 'worst martini ev',\n",
       " 'the steak shrimp opinion best entrees gc',\n",
       " 'i opportunity today sample amazing pizza',\n",
       " 'we waited thirty minutes seated although vacant tables folks wait',\n",
       " 'the yellowtail carpaccio melt mouth fresh',\n",
       " 'i try going back even empti',\n",
       " 'no i going eat potato i found strangers hair',\n",
       " 'just spicy enough perfect actu',\n",
       " 'last night second time dining i happy i decided go back',\n",
       " 'even hello right',\n",
       " 'the desserts bit strang',\n",
       " 'my boyfriend i came first time recent trip vegas could pleased quality food servic',\n",
       " 'i really recommend place go wrong donut plac',\n",
       " 'nice ambi',\n",
       " 'i would recommend saving room',\n",
       " 'i guess maybe went night disgrac',\n",
       " 'however recent experience particular location good',\n",
       " 'i know like restaurants someth',\n",
       " 'avoid this establish',\n",
       " 'i think restaurant suffers trying hard enough',\n",
       " 'all tapas dishes delici',\n",
       " 'i heart plac',\n",
       " 'my salad bland vinegrette baby greens hearts palm',\n",
       " 'after two i felt disgust',\n",
       " 'a good tim',\n",
       " 'i believe place great stop huge belly hankering sushi',\n",
       " 'generous portions great tast',\n",
       " 'i never go back place never ever recommended place anyon',\n",
       " 'the servers went back forth several times even much are help',\n",
       " 'food delici',\n",
       " 'an hour seri',\n",
       " 'i consider theft',\n",
       " 'eew this location needs complete overhaul',\n",
       " 'we recently witnessed poor quality management towards guests wel',\n",
       " 'waited waited wait',\n",
       " 'he also came back check us regularly excellent servic',\n",
       " 'our server super nice checked us many tim',\n",
       " 'the pizza tasted old super chewy good way',\n",
       " 'i swung give try deeply disappoint',\n",
       " 'service good company bett',\n",
       " 'the staff also friendly effici',\n",
       " 'as service i fan quick served nice folk',\n",
       " 'boy sucker dri',\n",
       " 'over r',\n",
       " 'if look authentic thai food go els',\n",
       " 'their steaks recommend',\n",
       " 'after i pulled car i waited another minutes acknowledg',\n",
       " 'great food great service clean friendly set',\n",
       " 'all i assure i back',\n",
       " 'i hate things much cheap quality black ol',\n",
       " 'my breakfast perpared great beautiful presentation giant slices toast lightly dusted powdered sugar',\n",
       " 'the kids play area nasti',\n",
       " 'great place fo take eat',\n",
       " 'the waitress friendly happy accomodate vegan veggie opt',\n",
       " 'omg i felt like i never eaten thai food dish',\n",
       " 'it extremely crumby pretty tasteless',\n",
       " 'it pale color instead nice char no flavor',\n",
       " 'the croutons also taste homemade extra plu',\n",
       " 'i got home see driest damn wings ev',\n",
       " 'it regular stop trips phoenix',\n",
       " 'i really enjoyed crema caf expanded i even told friends best breakfast',\n",
       " 'not good money',\n",
       " 'i miss wish one philadelphia',\n",
       " 'we got sitting fairly fast ended waiting minutes place order another minutes food arriv',\n",
       " 'they also best cheese crisp town',\n",
       " 'good value great food great servic',\n",
       " 'couldn ask satisfying m',\n",
       " 'the food good',\n",
       " 'it awesom',\n",
       " 'i wanted leav',\n",
       " 'we made drive way north scottsdale i one bit disappoint',\n",
       " 'i eat',\n",
       " 'the owners really really need quit soooooo cheap let wrap freaking sandwich two papers on',\n",
       " 'i checked place couple years ago impress',\n",
       " 'the chicken i got definitely reheated ok wedges cold soggi',\n",
       " 'sorry i getting food anytime soon',\n",
       " 'an absolute must visit',\n",
       " 'the cow tongue cheek tacos amaz',\n",
       " 'my friend like bloody mari',\n",
       " 'despite hard i rate businesses actually rare give star',\n",
       " 'they really want make experience good on',\n",
       " 'i return',\n",
       " 'i chicken pho tasted bland',\n",
       " 'very disappoint',\n",
       " 'the grilled chicken tender yellow saffron season',\n",
       " 'drive thru means want wait around half hour food somehow end going make us wait wait',\n",
       " 'pretty awesome plac',\n",
       " 'ambience perfect',\n",
       " 'best luck rude non customer service focused new manag',\n",
       " 'any grandmother make roasted chicken better on',\n",
       " 'i asked multiple times wine list time ignored i went hostess got on',\n",
       " 'the staff always super friendly helpful especially cool bring two small boys babi',\n",
       " 'four stars food guy blue shirt great vibe still letting us eat',\n",
       " 'the roast beef sandwich tasted really good',\n",
       " 'same evening i drastically sick',\n",
       " 'high quality chicken chicken caesar salad',\n",
       " 'ordered burger rare came don',\n",
       " 'we promptly greeted s',\n",
       " 'tried go lunch madhous',\n",
       " 'i proven dead wrong sushi bar quality great service fast food impecc',\n",
       " 'after waiting hour seated i greatest mood',\n",
       " 'this good joint',\n",
       " 'the macarons insanely good',\n",
       " 'i eat',\n",
       " 'our waiter attentive friendly inform',\n",
       " 'maybe cold would somewhat ed',\n",
       " 'this place lot promise fails deliv',\n",
       " 'very bad experi',\n",
       " 'what mistak',\n",
       " 'food average best',\n",
       " 'great food',\n",
       " 'we going back anytime soon',\n",
       " 'very very disappointed ordered big bay plat',\n",
       " 'great place relax awesome burger b',\n",
       " 'it perfect sit family meal get together friend',\n",
       " 'not much flavor poorly construct',\n",
       " 'the patio seating comfort',\n",
       " 'the fried rice dry wel',\n",
       " 'hands favorite italian restaur',\n",
       " 'that screams legit book somethat also pretty rare vega',\n",
       " 'it fun experi',\n",
       " 'the atmosphere great lovely duo violinists playing songs request',\n",
       " 'i personally love hummus pita baklava falafels baba ganoush amazing eggpl',\n",
       " 'very convenient since staying mgm',\n",
       " 'the owners super friendly staff court',\n",
       " 'both great',\n",
       " 'eclectic select',\n",
       " 'the sweet potato tots good onion rings perfection close i',\n",
       " 'the staff attent',\n",
       " 'and chef generous time even came around twice take pictur',\n",
       " 'the owner used work nobu place really similar half pric',\n",
       " 'google mediocre i imagine smashburger pop',\n",
       " 'dont go',\n",
       " 'i promise disappoint',\n",
       " 'as sushi lover avoid place mean',\n",
       " 'what great double cheeseburg',\n",
       " 'awesome service food',\n",
       " 'a fantastic neighborhood gem',\n",
       " 'i wait go back',\n",
       " 'the plantains worst i ever tast',\n",
       " 'it great place i highly recommend',\n",
       " 'service slow attent',\n",
       " 'i gave stars i giving star',\n",
       " 'your staff spends time talk',\n",
       " 'dessert panna cotta amaz',\n",
       " 'very good food great atmospher',\n",
       " 'damn good steak',\n",
       " 'total brunch fail',\n",
       " 'prices reasonable flavors spot sauce home made slaw drenched mayo',\n",
       " 'the decor nice piano music soundtrack pleas',\n",
       " 'the steak amazing rge fillet relleno best seafood plate ev',\n",
       " 'good food good servic',\n",
       " 'it absolutely amaz',\n",
       " 'i probably back honest',\n",
       " 'definitely back',\n",
       " 'the sergeant pepper beef sandwich auju sauce excellent sandwich wel',\n",
       " 'hawaiian breeze mango magic pineapple delight smoothies i tried far good',\n",
       " 'went lunch service slow',\n",
       " 'we much say place walked expected amazing quickly disappoint',\n",
       " 'i mortifi',\n",
       " 'needless say never back',\n",
       " 'anyways the food definitely filling price pay expect',\n",
       " 'the chips came dripping grease mostly ed',\n",
       " 'i really impressed strip steak',\n",
       " 'have going since every meal awesom',\n",
       " 'our server nice attentive serving staff',\n",
       " 'the cashier friendly even brought food',\n",
       " 'i work hospitality industry paradise valley refrained recommending cibo long',\n",
       " 'the atmosphere fun',\n",
       " 'would recommend oth',\n",
       " 'service quick even go orders like lik',\n",
       " 'i mean really get famous fish chips terr',\n",
       " 'that said mouths bellies still quite pleas',\n",
       " 'not th',\n",
       " 'thumbs up',\n",
       " 'if reading please go',\n",
       " 'i loved grilled pizza reminded legit italian pizza',\n",
       " 'only pros large seating area nice bar area great simple drink menu the best brick oven pizza homemade dough',\n",
       " 'they really nice atmospher',\n",
       " 'tonight i elk filet special suck',\n",
       " 'after one bite i hook',\n",
       " 'we ordered old classics new dishes going times sorely disappointed everyth',\n",
       " 'cute quaint simple honest',\n",
       " 'the chicken deliciously seasoned perfect fry outside moist chicken insid',\n",
       " 'the food great always compliments chef',\n",
       " 'special thanks dylan t recommendation order all yummy tummi',\n",
       " 'awesome selection b',\n",
       " 'great food awesome servic',\n",
       " 'one nice thing added gratuity bill since party larger expect tip',\n",
       " 'a fly apple juice a fli',\n",
       " 'the han nan chicken also tasti',\n",
       " 'as service i thought good',\n",
       " 'the food barely lukewarm must sitting waiting server bring u',\n",
       " 'ryan bar definitely one edinburgh establishment i revisit',\n",
       " 'nicest chinese restaurant i',\n",
       " 'overall i like food servic',\n",
       " 'they also serve indian naan bread hummus spicy pine nut sauce world',\n",
       " 'probably never coming back recommend',\n",
       " 'friend pasta also bad barely touch',\n",
       " 'try airport experience tasty food speedy friendly servic',\n",
       " 'i love decor chinese calligraphy wall pap',\n",
       " 'never anything complain',\n",
       " 'the restaurant clean family restaurant feel',\n",
       " 'it way fri',\n",
       " 'i sure long stood long enough begin feel awkwardly plac',\n",
       " 'when i opened sandwich i impressed good way',\n",
       " 'will back',\n",
       " 'there warm feeling service i felt like guest special treat',\n",
       " 'an extensive menu provides lots options breakfast',\n",
       " 'i always order vegetarian menu dinner wide array options choos',\n",
       " 'i watched prices inflate portions get smaller management attitudes grow rapidli',\n",
       " 'wonderful lil tapas ambience made feel warm fuzzy insid',\n",
       " 'i got enjoy seafood salad fabulous vinegrett',\n",
       " 'the wontons thin thick chewy almost melt mouth',\n",
       " 'level spicy perfect spice whelm soup',\n",
       " 'we sat right time server get go fantast',\n",
       " 'main thing i enjoy crowd older crowd around mid',\n",
       " 'when i side town definitely spot i hit',\n",
       " 'i wait minutes get drink longer get arepa',\n",
       " 'this great place eat',\n",
       " 'the jalapeno bacon soooo good',\n",
       " 'the service poor thats nic',\n",
       " 'food good service good prices good',\n",
       " 'the place clean food oh stal',\n",
       " 'the chicken dishes ok beef like shoe leath',\n",
       " 'but service beyond bad',\n",
       " 'i happi',\n",
       " 'tasted like dirt',\n",
       " 'one places phoenix i would definately go back',\n",
       " 'the block amaz',\n",
       " 'it close house low key non fancy affordable prices good food',\n",
       " 'both hot sour egg flower soups absolutely star',\n",
       " 'my sashimi poor quality soggy tasteless',\n",
       " 'great time family dinner sunday night',\n",
       " 'food tasty say real traditional hunan styl',\n",
       " 'what bother slow servic',\n",
       " 'the flair bartenders absolutely amaz',\n",
       " 'their frozen margaritas way sugary tast',\n",
       " 'these good ordered twic',\n",
       " 'so nutshell the restaraunt smells like combination dirty fish market sew',\n",
       " 'my girlfriend veal bad',\n",
       " 'unfortunately good',\n",
       " 'i pretty satifying experi',\n",
       " 'join club get awesome offers via email',\n",
       " 'perfect someone likes beer ice cold case even cold',\n",
       " 'bland flavorless good way describing barely tepid meat',\n",
       " 'the chains i fan beat place easili',\n",
       " 'the nachos must hav',\n",
       " 'we coming back',\n",
       " 'i many words say place everything pretty wel',\n",
       " 'the staff super nice quick even crazy crowds downtown juries lawyers court staff',\n",
       " 'great atmosphere friendly fast servic',\n",
       " 'when i received pita huge lot meat thumb',\n",
       " 'once food arrives meh',\n",
       " 'paying hot dog fries looks like came kid meal wienerschnitzel idea good m',\n",
       " 'the classic maine lobster roll fantast',\n",
       " 'my brother law works mall ate day guess sick night',\n",
       " 'so good i going review place twice hereas tribute place tribute event held last night',\n",
       " 'the chips salsa really good salsa fresh',\n",
       " 'this place great',\n",
       " 'mediocre food',\n",
       " 'once get inside impressed plac',\n",
       " 'i super pissd',\n",
       " 'and service super friendli',\n",
       " 'why sad little vegetables overcook',\n",
       " 'this place nice surpris',\n",
       " 'they golden crispy delici',\n",
       " 'i high hopes place since burgers cooked charcoal grill unfortunately taste fell flat way flat',\n",
       " 'i could eat bruschetta day devin',\n",
       " 'not single employee came see ok even needed water refill finally served us food',\n",
       " 'lastly mozzarella sticks best thing ord',\n",
       " 'the first time i ever came i amazing experience i still tell people awesome duck',\n",
       " 'the server negligent needs made us feel unwelcome i would suggest plac',\n",
       " 'the service terrible though',\n",
       " 'this place overpriced consistent boba really overpr',\n",
       " 'it pack',\n",
       " 'i love plac',\n",
       " 'i say desserts yummi',\n",
       " 'the food terr',\n",
       " 'the seasonal fruit fresh white peach pure',\n",
       " 'it kept getting worse worse i officially don',\n",
       " 'this place honestly blown',\n",
       " 'but i definitely would eat',\n",
       " 'do waste money',\n",
       " 'i love put food nice plastic containers opposed cramming little paper takeout box',\n",
       " 'the cr pe delicate thin moist',\n",
       " 'awful servic',\n",
       " 'won ever go',\n",
       " 'food quality horr',\n",
       " 'for price i think place i would much rather gon',\n",
       " 'the service fair best',\n",
       " 'i love sushi i found kabuki priced hip servic',\n",
       " 'do favor stay away dish',\n",
       " 'very poor servic',\n",
       " 'no one table thought food average worth wait',\n",
       " 'best service food ever maria server good friendly made day',\n",
       " 'they excel',\n",
       " 'i paid bill tip i felt server terrible job',\n",
       " 'just lunch great experi',\n",
       " 'i never bland food surprised considering article read focused much spices flavor',\n",
       " 'food way overpriced portions fucking smal',\n",
       " 'i recently tried caballero i back every week sinc',\n",
       " 'bucks head really expect better food',\n",
       " 'the food came good pac',\n",
       " 'i ate twice last visit especially enjoyed salmon salad',\n",
       " 'i back',\n",
       " 'we could believe dirty oyst',\n",
       " 'this place deserves star',\n",
       " 'i would recommend plac',\n",
       " 'in fact i going round stars awesom',\n",
       " 'to disbelief dish qualified worst version foods i ever tast',\n",
       " 'bad day i low tolerance rude customer service people job nice polite wash dishes otherwis',\n",
       " 'potatoes great biscuit',\n",
       " 'i probably would go',\n",
       " 'so flavorful perfect amount heat',\n",
       " 'the price reasonable service great',\n",
       " 'the wife hated meal coconut shrimp friends really enjoy meals eith',\n",
       " 'my fella got huevos rancheros look app',\n",
       " 'went happy hour great list win',\n",
       " 'some may say buffet pricey i think get pay place getting quite lot',\n",
       " 'i probably coming back',\n",
       " 'worst food service i',\n",
       " 'this place pretty good nice little vibe restaur',\n",
       " 'talk great customer service course back',\n",
       " 'hot dishes hot cold dishes close room temp i watched staff prepare food bare hands gloves everything deep fried oil',\n",
       " 'i love fries bean',\n",
       " 'always pleasure d',\n",
       " 'they plethora salads sandwiches everything i tried gets seal approv',\n",
       " 'this place awesome want something light healthy summ',\n",
       " 'for sushi strip place go',\n",
       " 'the service great even manager came helped t',\n",
       " 'the feel dining room college cooking course high class dining service slow best',\n",
       " 'i started review two stars i editing give on',\n",
       " 'worst sushi ever eat besides costco',\n",
       " 'all excellent restaurant highlighted great service unique menu beautiful set',\n",
       " 'my boyfriend sat bar completely delightful experi',\n",
       " 'weird vibe own',\n",
       " 'there hardly meat',\n",
       " 'i better bagels grocery stor',\n",
       " 'go to place gyro',\n",
       " 'i love owner chef one authentic japanese cool dud',\n",
       " 'now burgers good pizza used amazing doughy flavorless',\n",
       " 'i found six inch long piece wire salsa',\n",
       " 'the service terrible food mediocr',\n",
       " 'we definately enjoy',\n",
       " 'i ordered albondigas soup warm tasted like tomato soup frozen meatbal',\n",
       " 'on three different occasions i asked well done medium well three times i got bloodiest piece meat pl',\n",
       " 'i two bites refused eat anymor',\n",
       " 'the service extremely slow',\n",
       " 'after minutes wait i got t',\n",
       " 'seriously killer hot chai latt',\n",
       " 'no allergy warnings menu waitress absolutely clue meals contain peanut',\n",
       " 'my boyfriend tried mediterranean chicken salad fell lov',\n",
       " 'their rotating beers tap also highlight plac',\n",
       " 'pricing bit concern mellow mushroom',\n",
       " 'worst thai ev',\n",
       " 'if stay vegas must get breakfast least',\n",
       " 'i want first say server great perfect servic',\n",
       " 'the pizza selections good',\n",
       " 'i strawberry tea good',\n",
       " 'highly unprofessional rude loyal patron',\n",
       " 'overall great experi',\n",
       " 'spend money elsewher',\n",
       " 'their regular toasted bread equally satisfying occasional pats butter mmmm',\n",
       " 'the buffet bellagio far i anticip',\n",
       " 'and drinks weak peopl',\n",
       " 'my order correct',\n",
       " 'also i feel like chips bought made hous',\n",
       " 'after disappointing dinner went elsewhere dessert',\n",
       " 'the chips sals amaz',\n",
       " 'we return',\n",
       " 'this new fav vegas buffet spot',\n",
       " 'i seriously cannot believe owner many unexperienced employees running around like chickens heads cut',\n",
       " 'very sad',\n",
       " 'felt insulted disrespected could talk judge another human lik',\n",
       " 'how call steakhouse properly cook steak i understand',\n",
       " 'i impressed concept food',\n",
       " 'the thing i crazy guacamole i like pur ',\n",
       " 'there really nothing postinos hope experience bett',\n",
       " 'i got food poisoning buffet',\n",
       " 'they brought fresh batch fries i thinking yay something warm',\n",
       " 'what should hilarious yummy christmas eve dinner remember biggest fail entire trip u',\n",
       " 'needless say i going back anytime soon',\n",
       " 'this place disgust',\n",
       " 'every time i eat i see caring teamwork professional degre',\n",
       " 'the ri style calamari jok',\n",
       " 'however much garlic fondue barely ed',\n",
       " 'i could barely stomach meal complain business lunch',\n",
       " 'it bad i lost heart finish',\n",
       " 'it also took forever bring us check ask',\n",
       " 'we ones make scene restaurants i get definitely lost love on',\n",
       " 'disappointing experi',\n",
       " 'the food par denny say good',\n",
       " 'if want wait mediocre food downright terrible service plac',\n",
       " 'waaaaaayyyyyyyyyy rated i say',\n",
       " 'we going back',\n",
       " 'the place fairly clean food simply worth',\n",
       " 'this place lacked styl',\n",
       " 'the sangria half glass wine full ridicul',\n",
       " 'don bother com',\n",
       " 'the meat pretty dry i sliced brisket pulled pork',\n",
       " 'the building seems pretty neat bathroom pretty trippy i eat',\n",
       " 'it equally aw',\n",
       " 'probably hurry go back',\n",
       " 'slow seating even reserv',\n",
       " 'not good stretch imagin',\n",
       " 'the cashew cream sauce bland vegetables undercook',\n",
       " 'the chipolte ranch dipping sause tasteless seemed thin watered heat',\n",
       " 'it bit sweet really spicy enough lacked flavor',\n",
       " 'i very disappoint',\n",
       " 'this place horrible way overpr',\n",
       " 'maybe vegetarian fare i twice i thought average best',\n",
       " 'it busy know',\n",
       " 'the tables outside also dirty lot time workers always friendly helpful menu',\n",
       " 'the ambiance feel like buffet setting douchey indoor garden tea biscuit',\n",
       " 'con spotty servic',\n",
       " 'the fries hot neither burg',\n",
       " 'but came back cold',\n",
       " 'then food came disappointment ensu',\n",
       " 'the real disappointment wait',\n",
       " 'my husband said rude even apologize bad food anyth',\n",
       " 'the reason eat would fill night binge drinking get carbs stomach',\n",
       " 'insults profound deuchebaggery go outside smoke break serving solidifi',\n",
       " 'if someone orders two tacos think may part customer service ask combo ala cart',\n",
       " 'she quite disappointed although blame needs placed door',\n",
       " 'after rave reviews i wait eat disappoint',\n",
       " 'del taco pretty nasty avoided poss',\n",
       " 'it not hard make decent hamburg',\n",
       " 'but i lik',\n",
       " 'hell i go back',\n",
       " 'we gotten much better service pizza place next door services received restaur',\n",
       " 'i know big deal place i back ya',\n",
       " 'i immediately said i wanted talk manager i want talk guy shots fireball behind bar',\n",
       " 'the ambiance much bett',\n",
       " 'unfortunately set us disapppointment entre',\n",
       " 'the food good',\n",
       " 'your servers suck wait correction server heimer suck',\n",
       " 'what happened next pretty put',\n",
       " 'bad cause i know family owned i really wanted like plac',\n",
       " 'overpriced get',\n",
       " 'i vomited bathroom mid lunch',\n",
       " 'i kept looking time soon become minutes yet still food',\n",
       " 'i places eat circumstances would i ever return tops list',\n",
       " 'we started tuna sashimi brownish color obviously fresh',\n",
       " 'food averag',\n",
       " 'it sure beat nachos movies i would expect little bit coming restaur',\n",
       " 'all ha long bay bit flop',\n",
       " 'the problem i charge sandwich bigger subway sub offers better amount veget',\n",
       " 'shrimp when i unwrapped i live mile brushfire literally ice cold',\n",
       " 'it lacked flavor seemed undercooked dri',\n",
       " 'it really impressive place clos',\n",
       " 'i would avoid place staying mirag',\n",
       " 'the refried beans came meal dried crusty food bland',\n",
       " 'spend money time place els',\n",
       " 'a lady table next us found live green caterpillar in salad',\n",
       " 'presentation food aw',\n",
       " 'i tell disappointed i',\n",
       " 'i think food flavor texture lack',\n",
       " 'appetite instantly gon',\n",
       " 'overall i impressed would go back',\n",
       " 'the whole experience underwhelming i think go ninja sushi next tim',\n",
       " 'then i wasted enough life poured salt wound drawing time took bring check']"
      ]
     },
     "execution_count": 79,
     "metadata": {},
     "output_type": "execute_result"
    }
   ],
   "source": [
    "# Putting all together\n",
    "\n",
    "corpus = []\n",
    "\n",
    "for s in data['Review']:\n",
    "    # s = data['Review'][i]\n",
    "    s = re.sub('[^a-zA-Z]',\" \",s)\n",
    "    s.lower()\n",
    "    s = s.split()\n",
    "    s = [word for word in s if word not in stopwords.words('english')]\n",
    "    s = ' '.join(s)\n",
    "    s = ps.stem(s)\n",
    "    corpus.append(s)\n",
    "\n",
    "corpus"
   ]
  },
  {
   "cell_type": "code",
   "execution_count": null,
   "metadata": {},
   "outputs": [],
   "source": [
    "cv = CountVectorizer()\n"
   ]
  },
  {
   "cell_type": "code",
   "execution_count": null,
   "metadata": {},
   "outputs": [
    {
     "data": {
      "text/plain": [
       "array([[0, 0, 0, ..., 0, 0, 0],\n",
       "       [0, 0, 0, ..., 0, 0, 0],\n",
       "       [0, 0, 0, ..., 0, 0, 0],\n",
       "       ...,\n",
       "       [0, 0, 0, ..., 0, 0, 0],\n",
       "       [0, 0, 0, ..., 0, 0, 0],\n",
       "       [0, 0, 0, ..., 0, 0, 0]], dtype=int64)"
      ]
     },
     "execution_count": 81,
     "metadata": {},
     "output_type": "execute_result"
    }
   ],
   "source": [
    "X = cv.fit_transform(corpus).toarray()\n",
    "X"
   ]
  },
  {
   "cell_type": "code",
   "execution_count": null,
   "metadata": {},
   "outputs": [
    {
     "data": {
      "text/plain": [
       "0      1\n",
       "1      0\n",
       "2      0\n",
       "3      1\n",
       "4      1\n",
       "      ..\n",
       "995    0\n",
       "996    0\n",
       "997    0\n",
       "998    0\n",
       "999    0\n",
       "Name: Liked, Length: 1000, dtype: int64"
      ]
     },
     "execution_count": 82,
     "metadata": {},
     "output_type": "execute_result"
    }
   ],
   "source": [
    "y = data['Liked']\n",
    "y"
   ]
  },
  {
   "cell_type": "code",
   "execution_count": null,
   "metadata": {},
   "outputs": [],
   "source": [
    "from sklearn.model_selection import train_test_split"
   ]
  },
  {
   "cell_type": "code",
   "execution_count": null,
   "metadata": {},
   "outputs": [],
   "source": [
    "X_train, X_test, y_train, y_test = train_test_split( X, y, test_size=0.33, random_state=4)"
   ]
  },
  {
   "cell_type": "code",
   "execution_count": null,
   "metadata": {},
   "outputs": [],
   "source": []
  },
  {
   "cell_type": "markdown",
   "metadata": {},
   "source": [
    "### Model Building and Selection"
   ]
  },
  {
   "cell_type": "code",
   "execution_count": null,
   "metadata": {},
   "outputs": [],
   "source": [
    "from sklearn.naive_bayes import MultinomialNB"
   ]
  },
  {
   "cell_type": "code",
   "execution_count": null,
   "metadata": {},
   "outputs": [],
   "source": [
    "clf = MultinomialNB()"
   ]
  },
  {
   "cell_type": "code",
   "execution_count": null,
   "metadata": {},
   "outputs": [
    {
     "data": {
      "text/html": [
       "<style>#sk-container-id-2 {color: black;background-color: white;}#sk-container-id-2 pre{padding: 0;}#sk-container-id-2 div.sk-toggleable {background-color: white;}#sk-container-id-2 label.sk-toggleable__label {cursor: pointer;display: block;width: 100%;margin-bottom: 0;padding: 0.3em;box-sizing: border-box;text-align: center;}#sk-container-id-2 label.sk-toggleable__label-arrow:before {content: \"▸\";float: left;margin-right: 0.25em;color: #696969;}#sk-container-id-2 label.sk-toggleable__label-arrow:hover:before {color: black;}#sk-container-id-2 div.sk-estimator:hover label.sk-toggleable__label-arrow:before {color: black;}#sk-container-id-2 div.sk-toggleable__content {max-height: 0;max-width: 0;overflow: hidden;text-align: left;background-color: #f0f8ff;}#sk-container-id-2 div.sk-toggleable__content pre {margin: 0.2em;color: black;border-radius: 0.25em;background-color: #f0f8ff;}#sk-container-id-2 input.sk-toggleable__control:checked~div.sk-toggleable__content {max-height: 200px;max-width: 100%;overflow: auto;}#sk-container-id-2 input.sk-toggleable__control:checked~label.sk-toggleable__label-arrow:before {content: \"▾\";}#sk-container-id-2 div.sk-estimator input.sk-toggleable__control:checked~label.sk-toggleable__label {background-color: #d4ebff;}#sk-container-id-2 div.sk-label input.sk-toggleable__control:checked~label.sk-toggleable__label {background-color: #d4ebff;}#sk-container-id-2 input.sk-hidden--visually {border: 0;clip: rect(1px 1px 1px 1px);clip: rect(1px, 1px, 1px, 1px);height: 1px;margin: -1px;overflow: hidden;padding: 0;position: absolute;width: 1px;}#sk-container-id-2 div.sk-estimator {font-family: monospace;background-color: #f0f8ff;border: 1px dotted black;border-radius: 0.25em;box-sizing: border-box;margin-bottom: 0.5em;}#sk-container-id-2 div.sk-estimator:hover {background-color: #d4ebff;}#sk-container-id-2 div.sk-parallel-item::after {content: \"\";width: 100%;border-bottom: 1px solid gray;flex-grow: 1;}#sk-container-id-2 div.sk-label:hover label.sk-toggleable__label {background-color: #d4ebff;}#sk-container-id-2 div.sk-serial::before {content: \"\";position: absolute;border-left: 1px solid gray;box-sizing: border-box;top: 0;bottom: 0;left: 50%;z-index: 0;}#sk-container-id-2 div.sk-serial {display: flex;flex-direction: column;align-items: center;background-color: white;padding-right: 0.2em;padding-left: 0.2em;position: relative;}#sk-container-id-2 div.sk-item {position: relative;z-index: 1;}#sk-container-id-2 div.sk-parallel {display: flex;align-items: stretch;justify-content: center;background-color: white;position: relative;}#sk-container-id-2 div.sk-item::before, #sk-container-id-2 div.sk-parallel-item::before {content: \"\";position: absolute;border-left: 1px solid gray;box-sizing: border-box;top: 0;bottom: 0;left: 50%;z-index: -1;}#sk-container-id-2 div.sk-parallel-item {display: flex;flex-direction: column;z-index: 1;position: relative;background-color: white;}#sk-container-id-2 div.sk-parallel-item:first-child::after {align-self: flex-end;width: 50%;}#sk-container-id-2 div.sk-parallel-item:last-child::after {align-self: flex-start;width: 50%;}#sk-container-id-2 div.sk-parallel-item:only-child::after {width: 0;}#sk-container-id-2 div.sk-dashed-wrapped {border: 1px dashed gray;margin: 0 0.4em 0.5em 0.4em;box-sizing: border-box;padding-bottom: 0.4em;background-color: white;}#sk-container-id-2 div.sk-label label {font-family: monospace;font-weight: bold;display: inline-block;line-height: 1.2em;}#sk-container-id-2 div.sk-label-container {text-align: center;}#sk-container-id-2 div.sk-container {/* jupyter's `normalize.less` sets `[hidden] { display: none; }` but bootstrap.min.css set `[hidden] { display: none !important; }` so we also need the `!important` here to be able to override the default hidden behavior on the sphinx rendered scikit-learn.org. See: https://github.com/scikit-learn/scikit-learn/issues/21755 */display: inline-block !important;position: relative;}#sk-container-id-2 div.sk-text-repr-fallback {display: none;}</style><div id=\"sk-container-id-2\" class=\"sk-top-container\"><div class=\"sk-text-repr-fallback\"><pre>MultinomialNB()</pre><b>In a Jupyter environment, please rerun this cell to show the HTML representation or trust the notebook. <br />On GitHub, the HTML representation is unable to render, please try loading this page with nbviewer.org.</b></div><div class=\"sk-container\" hidden><div class=\"sk-item\"><div class=\"sk-estimator sk-toggleable\"><input class=\"sk-toggleable__control sk-hidden--visually\" id=\"sk-estimator-id-2\" type=\"checkbox\" checked><label for=\"sk-estimator-id-2\" class=\"sk-toggleable__label sk-toggleable__label-arrow\">MultinomialNB</label><div class=\"sk-toggleable__content\"><pre>MultinomialNB()</pre></div></div></div></div></div>"
      ],
      "text/plain": [
       "MultinomialNB()"
      ]
     },
     "execution_count": 87,
     "metadata": {},
     "output_type": "execute_result"
    }
   ],
   "source": [
    "clf.fit(X_train, y_train)"
   ]
  },
  {
   "cell_type": "code",
   "execution_count": null,
   "metadata": {},
   "outputs": [],
   "source": []
  },
  {
   "cell_type": "markdown",
   "metadata": {},
   "source": [
    "### Model Prediction"
   ]
  },
  {
   "cell_type": "code",
   "execution_count": null,
   "metadata": {},
   "outputs": [
    {
     "data": {
      "text/plain": [
       "array([0, 1, 0, 0, 0, 0, 0, 0, 1, 0, 1, 0, 0, 0, 0, 0, 0, 1, 1, 0, 1, 1,\n",
       "       0, 0, 1, 0, 1, 0, 0, 0, 1, 0, 0, 0, 1, 1, 0, 0, 1, 1, 1, 1, 1, 0,\n",
       "       1, 1, 0, 1, 0, 0, 0, 0, 1, 0, 0, 1, 0, 0, 0, 0, 1, 0, 1, 1, 1, 1,\n",
       "       1, 1, 0, 0, 0, 1, 0, 0, 0, 0, 1, 0, 1, 0, 0, 1, 1, 0, 1, 0, 0, 0,\n",
       "       1, 1, 1, 1, 0, 1, 1, 0, 0, 1, 0, 1, 1, 1, 0, 1, 0, 0, 0, 1, 1, 1,\n",
       "       1, 0, 0, 1, 0, 0, 1, 0, 0, 1, 0, 1, 0, 0, 0, 1, 0, 1, 0, 0, 0, 0,\n",
       "       1, 1, 0, 0, 1, 0, 0, 1, 0, 1, 1, 1, 0, 1, 0, 0, 0, 0, 0, 1, 1, 0,\n",
       "       0, 1, 1, 0, 0, 0, 1, 1, 1, 0, 1, 0, 1, 1, 1, 1, 0, 1, 0, 1, 0, 1,\n",
       "       1, 0, 0, 0, 1, 1, 1, 1, 1, 1, 1, 1, 1, 1, 1, 0, 1, 0, 0, 1, 0, 0,\n",
       "       1, 0, 0, 0, 0, 1, 1, 0, 1, 1, 1, 0, 0, 1, 1, 1, 1, 1, 0, 1, 0, 0,\n",
       "       1, 0, 1, 1, 1, 1, 1, 1, 0, 1, 0, 1, 0, 0, 1, 0, 1, 1, 1, 1, 1, 1,\n",
       "       0, 1, 1, 1, 0, 1, 1, 0, 1, 0, 0, 0, 0, 0, 1, 0, 1, 1, 0, 1, 1, 1,\n",
       "       0, 0, 1, 0, 0, 1, 1, 1, 1, 1, 1, 1, 1, 0, 1, 0, 0, 1, 0, 0, 1, 1,\n",
       "       1, 0, 0, 0, 1, 0, 0, 1, 0, 0, 0, 0, 0, 1, 1, 0, 0, 1, 0, 1, 0, 1,\n",
       "       0, 1, 0, 1, 1, 1, 1, 0, 1, 0, 0, 1, 1, 1, 0, 1, 0, 1, 1, 1, 1, 1],\n",
       "      dtype=int64)"
      ]
     },
     "execution_count": 97,
     "metadata": {},
     "output_type": "execute_result"
    }
   ],
   "source": [
    "y_pred = clf.predict(X_test)\n",
    "y_pred\n"
   ]
  },
  {
   "cell_type": "code",
   "execution_count": null,
   "metadata": {},
   "outputs": [
    {
     "data": {
      "text/plain": [
       "array([0, 1, 0, 1, 1, 0, 0, 0, 1, 0, 1, 0, 0, 1, 0, 0, 0, 0, 1, 0, 0, 1,\n",
       "       0, 0, 1, 0, 1, 0, 0, 0, 1, 0, 0, 1, 0, 1, 0, 0, 0, 1, 0, 1, 1, 0,\n",
       "       1, 1, 0, 1, 0, 0, 0, 0, 1, 0, 0, 1, 1, 1, 0, 0, 0, 0, 1, 1, 0, 0,\n",
       "       1, 0, 0, 0, 0, 1, 0, 0, 1, 1, 1, 1, 1, 1, 0, 1, 1, 1, 1, 0, 1, 0,\n",
       "       0, 0, 1, 1, 0, 0, 1, 0, 1, 0, 0, 1, 1, 1, 0, 1, 1, 1, 0, 1, 1, 1,\n",
       "       1, 1, 0, 1, 0, 1, 0, 0, 0, 1, 0, 1, 1, 0, 0, 1, 0, 0, 0, 0, 1, 1,\n",
       "       1, 1, 0, 0, 1, 0, 0, 1, 0, 0, 1, 1, 0, 1, 0, 0, 0, 0, 0, 0, 1, 0,\n",
       "       1, 1, 1, 0, 0, 0, 1, 1, 1, 0, 0, 1, 1, 1, 1, 1, 0, 1, 0, 1, 1, 1,\n",
       "       1, 0, 0, 0, 1, 1, 1, 1, 1, 1, 1, 0, 1, 0, 0, 0, 1, 0, 1, 1, 0, 0,\n",
       "       0, 0, 1, 1, 0, 1, 1, 0, 1, 0, 1, 1, 1, 0, 1, 1, 1, 0, 0, 1, 0, 1,\n",
       "       1, 1, 1, 1, 1, 0, 1, 1, 0, 0, 0, 1, 0, 0, 1, 0, 0, 1, 1, 1, 1, 1,\n",
       "       0, 1, 1, 1, 0, 1, 0, 1, 1, 0, 0, 0, 0, 0, 1, 0, 1, 1, 0, 0, 0, 1,\n",
       "       0, 0, 0, 0, 0, 0, 0, 0, 0, 0, 0, 1, 1, 0, 1, 0, 1, 0, 0, 0, 0, 0,\n",
       "       1, 0, 0, 0, 1, 0, 0, 1, 0, 0, 0, 1, 0, 1, 1, 0, 1, 1, 0, 1, 1, 1,\n",
       "       0, 0, 0, 0, 1, 0, 1, 0, 0, 0, 0, 1, 0, 0, 0, 0, 0, 0, 1, 1, 1, 1],\n",
       "      dtype=int64)"
      ]
     },
     "execution_count": 89,
     "metadata": {},
     "output_type": "execute_result"
    }
   ],
   "source": [
    "y_test.values"
   ]
  },
  {
   "cell_type": "code",
   "execution_count": null,
   "metadata": {},
   "outputs": [],
   "source": []
  },
  {
   "cell_type": "markdown",
   "metadata": {},
   "source": [
    "### Model Evaluation"
   ]
  },
  {
   "cell_type": "code",
   "execution_count": null,
   "metadata": {},
   "outputs": [],
   "source": [
    "from sklearn.metrics import accuracy_score, confusion_matrix"
   ]
  },
  {
   "cell_type": "code",
   "execution_count": null,
   "metadata": {},
   "outputs": [
    {
     "name": "stdout",
     "output_type": "stream",
     "text": [
      "0.7454545454545455\n",
      " \n",
      "[[126  49]\n",
      " [ 35 120]]\n"
     ]
    }
   ],
   "source": [
    "print(accuracy_score(y_test, y_pred))\n",
    "print(' ')\n",
    "print(confusion_matrix(y_test, y_pred))"
   ]
  },
  {
   "cell_type": "code",
   "execution_count": null,
   "metadata": {},
   "outputs": [],
   "source": []
  },
  {
   "cell_type": "markdown",
   "metadata": {},
   "source": [
    "### Model Deployement and Production"
   ]
  },
  {
   "cell_type": "code",
   "execution_count": null,
   "metadata": {},
   "outputs": [],
   "source": [
    "import joblib"
   ]
  },
  {
   "cell_type": "code",
   "execution_count": null,
   "metadata": {},
   "outputs": [
    {
     "data": {
      "text/plain": [
       "['resturant.pkl']"
      ]
     },
     "execution_count": 93,
     "metadata": {},
     "output_type": "execute_result"
    }
   ],
   "source": [
    "joblib.dump(clf, 'resturant.pkl')"
   ]
  },
  {
   "cell_type": "code",
   "execution_count": null,
   "metadata": {},
   "outputs": [],
   "source": [
    "loaded = joblib.load('resturant.pkl')"
   ]
  },
  {
   "cell_type": "code",
   "execution_count": null,
   "metadata": {},
   "outputs": [
    {
     "ename": "ValueError",
     "evalue": "X has 1 features, but MultinomialNB is expecting 2057 features as input.",
     "output_type": "error",
     "traceback": [
      "\u001b[1;31m---------------------------------------------------------------------------\u001b[0m",
      "\u001b[1;31mValueError\u001b[0m                                Traceback (most recent call last)",
      "\u001b[1;32me:\\Programming (Practice & Projects)\\دبلومة بايثون لتعلم الآلة  Python Machine Learning Diploma\\Practice\\21. ----- COURSE(09)  MACHINE LEARNING CASE-STUDIES & APPLICATIONS -----\\1. NLP using Machine Learning\\main.ipynb Cell 61\u001b[0m in \u001b[0;36m<cell line: 17>\u001b[1;34m()\u001b[0m\n\u001b[0;32m     <a href='vscode-notebook-cell:/e%3A/Programming%20%28Practice%20%26%20Projects%29/%D8%AF%D8%A8%D9%84%D9%88%D9%85%D8%A9%20%D8%A8%D8%A7%D9%8A%D8%AB%D9%88%D9%86%20%D9%84%D8%AA%D8%B9%D9%84%D9%85%20%D8%A7%D9%84%D8%A2%D9%84%D8%A9%20%20Python%20Machine%20Learning%20Diploma/Practice/21.%20-----%20COURSE%2809%29%20%20MACHINE%20LEARNING%20CASE-STUDIES%20%26%20APPLICATIONS%20-----/1.%20NLP%20using%20Machine%20Learning/main.ipynb#Y114sZmlsZQ%3D%3D?line=14'>15</a>\u001b[0m cv \u001b[39m=\u001b[39m CountVectorizer()\n\u001b[0;32m     <a href='vscode-notebook-cell:/e%3A/Programming%20%28Practice%20%26%20Projects%29/%D8%AF%D8%A8%D9%84%D9%88%D9%85%D8%A9%20%D8%A8%D8%A7%D9%8A%D8%AB%D9%88%D9%86%20%D9%84%D8%AA%D8%B9%D9%84%D9%85%20%D8%A7%D9%84%D8%A2%D9%84%D8%A9%20%20Python%20Machine%20Learning%20Diploma/Practice/21.%20-----%20COURSE%2809%29%20%20MACHINE%20LEARNING%20CASE-STUDIES%20%26%20APPLICATIONS%20-----/1.%20NLP%20using%20Machine%20Learning/main.ipynb#Y114sZmlsZQ%3D%3D?line=15'>16</a>\u001b[0m X \u001b[39m=\u001b[39m cv\u001b[39m.\u001b[39mfit_transform(corpus)\u001b[39m.\u001b[39mtoarray()\n\u001b[1;32m---> <a href='vscode-notebook-cell:/e%3A/Programming%20%28Practice%20%26%20Projects%29/%D8%AF%D8%A8%D9%84%D9%88%D9%85%D8%A9%20%D8%A8%D8%A7%D9%8A%D8%AB%D9%88%D9%86%20%D9%84%D8%AA%D8%B9%D9%84%D9%85%20%D8%A7%D9%84%D8%A2%D9%84%D8%A9%20%20Python%20Machine%20Learning%20Diploma/Practice/21.%20-----%20COURSE%2809%29%20%20MACHINE%20LEARNING%20CASE-STUDIES%20%26%20APPLICATIONS%20-----/1.%20NLP%20using%20Machine%20Learning/main.ipynb#Y114sZmlsZQ%3D%3D?line=16'>17</a>\u001b[0m loaded\u001b[39m.\u001b[39;49mpredict(X)\n",
      "File \u001b[1;32mc:\\Users\\omarr\\AppData\\Local\\Programs\\Python\\Python310\\lib\\site-packages\\sklearn\\naive_bayes.py:80\u001b[0m, in \u001b[0;36m_BaseNB.predict\u001b[1;34m(self, X)\u001b[0m\n\u001b[0;32m     66\u001b[0m \u001b[39m\"\"\"\u001b[39;00m\n\u001b[0;32m     67\u001b[0m \u001b[39mPerform classification on an array of test vectors X.\u001b[39;00m\n\u001b[0;32m     68\u001b[0m \n\u001b[1;32m   (...)\u001b[0m\n\u001b[0;32m     77\u001b[0m \u001b[39m    Predicted target values for X.\u001b[39;00m\n\u001b[0;32m     78\u001b[0m \u001b[39m\"\"\"\u001b[39;00m\n\u001b[0;32m     79\u001b[0m check_is_fitted(\u001b[39mself\u001b[39m)\n\u001b[1;32m---> 80\u001b[0m X \u001b[39m=\u001b[39m \u001b[39mself\u001b[39;49m\u001b[39m.\u001b[39;49m_check_X(X)\n\u001b[0;32m     81\u001b[0m jll \u001b[39m=\u001b[39m \u001b[39mself\u001b[39m\u001b[39m.\u001b[39m_joint_log_likelihood(X)\n\u001b[0;32m     82\u001b[0m \u001b[39mreturn\u001b[39;00m \u001b[39mself\u001b[39m\u001b[39m.\u001b[39mclasses_[np\u001b[39m.\u001b[39margmax(jll, axis\u001b[39m=\u001b[39m\u001b[39m1\u001b[39m)]\n",
      "File \u001b[1;32mc:\\Users\\omarr\\AppData\\Local\\Programs\\Python\\Python310\\lib\\site-packages\\sklearn\\naive_bayes.py:549\u001b[0m, in \u001b[0;36m_BaseDiscreteNB._check_X\u001b[1;34m(self, X)\u001b[0m\n\u001b[0;32m    547\u001b[0m \u001b[39mdef\u001b[39;00m \u001b[39m_check_X\u001b[39m(\u001b[39mself\u001b[39m, X):\n\u001b[0;32m    548\u001b[0m     \u001b[39m\"\"\"Validate X, used only in predict* methods.\"\"\"\u001b[39;00m\n\u001b[1;32m--> 549\u001b[0m     \u001b[39mreturn\u001b[39;00m \u001b[39mself\u001b[39;49m\u001b[39m.\u001b[39;49m_validate_data(X, accept_sparse\u001b[39m=\u001b[39;49m\u001b[39m\"\u001b[39;49m\u001b[39mcsr\u001b[39;49m\u001b[39m\"\u001b[39;49m, reset\u001b[39m=\u001b[39;49m\u001b[39mFalse\u001b[39;49;00m)\n",
      "File \u001b[1;32mc:\\Users\\omarr\\AppData\\Local\\Programs\\Python\\Python310\\lib\\site-packages\\sklearn\\base.py:600\u001b[0m, in \u001b[0;36mBaseEstimator._validate_data\u001b[1;34m(self, X, y, reset, validate_separately, **check_params)\u001b[0m\n\u001b[0;32m    597\u001b[0m     out \u001b[39m=\u001b[39m X, y\n\u001b[0;32m    599\u001b[0m \u001b[39mif\u001b[39;00m \u001b[39mnot\u001b[39;00m no_val_X \u001b[39mand\u001b[39;00m check_params\u001b[39m.\u001b[39mget(\u001b[39m\"\u001b[39m\u001b[39mensure_2d\u001b[39m\u001b[39m\"\u001b[39m, \u001b[39mTrue\u001b[39;00m):\n\u001b[1;32m--> 600\u001b[0m     \u001b[39mself\u001b[39;49m\u001b[39m.\u001b[39;49m_check_n_features(X, reset\u001b[39m=\u001b[39;49mreset)\n\u001b[0;32m    602\u001b[0m \u001b[39mreturn\u001b[39;00m out\n",
      "File \u001b[1;32mc:\\Users\\omarr\\AppData\\Local\\Programs\\Python\\Python310\\lib\\site-packages\\sklearn\\base.py:400\u001b[0m, in \u001b[0;36mBaseEstimator._check_n_features\u001b[1;34m(self, X, reset)\u001b[0m\n\u001b[0;32m    397\u001b[0m     \u001b[39mreturn\u001b[39;00m\n\u001b[0;32m    399\u001b[0m \u001b[39mif\u001b[39;00m n_features \u001b[39m!=\u001b[39m \u001b[39mself\u001b[39m\u001b[39m.\u001b[39mn_features_in_:\n\u001b[1;32m--> 400\u001b[0m     \u001b[39mraise\u001b[39;00m \u001b[39mValueError\u001b[39;00m(\n\u001b[0;32m    401\u001b[0m         \u001b[39mf\u001b[39m\u001b[39m\"\u001b[39m\u001b[39mX has \u001b[39m\u001b[39m{\u001b[39;00mn_features\u001b[39m}\u001b[39;00m\u001b[39m features, but \u001b[39m\u001b[39m{\u001b[39;00m\u001b[39mself\u001b[39m\u001b[39m.\u001b[39m\u001b[39m__class__\u001b[39m\u001b[39m.\u001b[39m\u001b[39m__name__\u001b[39m\u001b[39m}\u001b[39;00m\u001b[39m \u001b[39m\u001b[39m\"\u001b[39m\n\u001b[0;32m    402\u001b[0m         \u001b[39mf\u001b[39m\u001b[39m\"\u001b[39m\u001b[39mis expecting \u001b[39m\u001b[39m{\u001b[39;00m\u001b[39mself\u001b[39m\u001b[39m.\u001b[39mn_features_in_\u001b[39m}\u001b[39;00m\u001b[39m features as input.\u001b[39m\u001b[39m\"\u001b[39m\n\u001b[0;32m    403\u001b[0m     )\n",
      "\u001b[1;31mValueError\u001b[0m: X has 1 features, but MultinomialNB is expecting 2057 features as input."
     ]
    }
   ],
   "source": [
    "\n",
    "corpus = []\n",
    "\n",
    "\n",
    "s = 'wow'\n",
    "s = re.sub('[^a-zA-Z]',\" \",s)\n",
    "s.lower()\n",
    "s = s.split()\n",
    "s = [word for word in s if word not in stopwords.words('english')]\n",
    "s = ' '.join(s)\n",
    "s = ps.stem(s)\n",
    "corpus.append(s)\n",
    "\n",
    "corpus\n",
    "\n",
    "cv = CountVectorizer()\n",
    "X = cv.fit_transform(corpus).toarray()\n",
    "loaded.predict(X)\n"
   ]
  }
 ],
 "metadata": {
  "kernelspec": {
   "display_name": "Python 3.10.6 64-bit",
   "language": "python",
   "name": "python3"
  },
  "language_info": {
   "codemirror_mode": {
    "name": "ipython",
    "version": 3
   },
   "file_extension": ".py",
   "mimetype": "text/x-python",
   "name": "python",
   "nbconvert_exporter": "python",
   "pygments_lexer": "ipython3",
   "version": "3.10.6"
  },
  "orig_nbformat": 4,
  "vscode": {
   "interpreter": {
    "hash": "d31201e02e4b7c7646718902bad6c42f547a48c63987c2a8ac208903c2d35310"
   }
  }
 },
 "nbformat": 4,
 "nbformat_minor": 2
}
